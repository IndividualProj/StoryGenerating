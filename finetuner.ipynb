{
 "cells": [
  {
   "cell_type": "code",
   "execution_count": 1,
   "metadata": {},
   "outputs": [],
   "source": [
    "import pandas as pd"
   ]
  },
  {
   "cell_type": "code",
   "execution_count": 2,
   "metadata": {},
   "outputs": [],
   "source": [
    "data=pd.read_csv('wiki_movie_plots_deduped.csv')  "
   ]
  },
  {
   "cell_type": "code",
   "execution_count": 3,
   "metadata": {},
   "outputs": [
    {
     "data": {
      "text/html": [
       "<div>\n",
       "<style scoped>\n",
       "    .dataframe tbody tr th:only-of-type {\n",
       "        vertical-align: middle;\n",
       "    }\n",
       "\n",
       "    .dataframe tbody tr th {\n",
       "        vertical-align: top;\n",
       "    }\n",
       "\n",
       "    .dataframe thead th {\n",
       "        text-align: right;\n",
       "    }\n",
       "</style>\n",
       "<table border=\"1\" class=\"dataframe\">\n",
       "  <thead>\n",
       "    <tr style=\"text-align: right;\">\n",
       "      <th></th>\n",
       "      <th>Release Year</th>\n",
       "      <th>Title</th>\n",
       "      <th>Origin/Ethnicity</th>\n",
       "      <th>Director</th>\n",
       "      <th>Cast</th>\n",
       "      <th>Genre</th>\n",
       "      <th>Wiki Page</th>\n",
       "      <th>Plot</th>\n",
       "    </tr>\n",
       "  </thead>\n",
       "  <tbody>\n",
       "    <tr>\n",
       "      <th>0</th>\n",
       "      <td>1901</td>\n",
       "      <td>Kansas Saloon Smashers</td>\n",
       "      <td>American</td>\n",
       "      <td>Unknown</td>\n",
       "      <td>NaN</td>\n",
       "      <td>unknown</td>\n",
       "      <td>https://en.wikipedia.org/wiki/Kansas_Saloon_Sm...</td>\n",
       "      <td>A bartender is working at a saloon, serving dr...</td>\n",
       "    </tr>\n",
       "    <tr>\n",
       "      <th>1</th>\n",
       "      <td>1901</td>\n",
       "      <td>Love by the Light of the Moon</td>\n",
       "      <td>American</td>\n",
       "      <td>Unknown</td>\n",
       "      <td>NaN</td>\n",
       "      <td>unknown</td>\n",
       "      <td>https://en.wikipedia.org/wiki/Love_by_the_Ligh...</td>\n",
       "      <td>The moon, painted with a smiling face hangs ov...</td>\n",
       "    </tr>\n",
       "    <tr>\n",
       "      <th>2</th>\n",
       "      <td>1901</td>\n",
       "      <td>The Martyred Presidents</td>\n",
       "      <td>American</td>\n",
       "      <td>Unknown</td>\n",
       "      <td>NaN</td>\n",
       "      <td>unknown</td>\n",
       "      <td>https://en.wikipedia.org/wiki/The_Martyred_Pre...</td>\n",
       "      <td>The film, just over a minute long, is composed...</td>\n",
       "    </tr>\n",
       "    <tr>\n",
       "      <th>3</th>\n",
       "      <td>1901</td>\n",
       "      <td>Terrible Teddy, the Grizzly King</td>\n",
       "      <td>American</td>\n",
       "      <td>Unknown</td>\n",
       "      <td>NaN</td>\n",
       "      <td>unknown</td>\n",
       "      <td>https://en.wikipedia.org/wiki/Terrible_Teddy,_...</td>\n",
       "      <td>Lasting just 61 seconds and consisting of two ...</td>\n",
       "    </tr>\n",
       "    <tr>\n",
       "      <th>4</th>\n",
       "      <td>1902</td>\n",
       "      <td>Jack and the Beanstalk</td>\n",
       "      <td>American</td>\n",
       "      <td>George S. Fleming, Edwin S. Porter</td>\n",
       "      <td>NaN</td>\n",
       "      <td>unknown</td>\n",
       "      <td>https://en.wikipedia.org/wiki/Jack_and_the_Bea...</td>\n",
       "      <td>The earliest known adaptation of the classic f...</td>\n",
       "    </tr>\n",
       "  </tbody>\n",
       "</table>\n",
       "</div>"
      ],
      "text/plain": [
       "   Release Year                             Title Origin/Ethnicity  \\\n",
       "0          1901            Kansas Saloon Smashers         American   \n",
       "1          1901     Love by the Light of the Moon         American   \n",
       "2          1901           The Martyred Presidents         American   \n",
       "3          1901  Terrible Teddy, the Grizzly King         American   \n",
       "4          1902            Jack and the Beanstalk         American   \n",
       "\n",
       "                             Director Cast    Genre  \\\n",
       "0                             Unknown  NaN  unknown   \n",
       "1                             Unknown  NaN  unknown   \n",
       "2                             Unknown  NaN  unknown   \n",
       "3                             Unknown  NaN  unknown   \n",
       "4  George S. Fleming, Edwin S. Porter  NaN  unknown   \n",
       "\n",
       "                                           Wiki Page  \\\n",
       "0  https://en.wikipedia.org/wiki/Kansas_Saloon_Sm...   \n",
       "1  https://en.wikipedia.org/wiki/Love_by_the_Ligh...   \n",
       "2  https://en.wikipedia.org/wiki/The_Martyred_Pre...   \n",
       "3  https://en.wikipedia.org/wiki/Terrible_Teddy,_...   \n",
       "4  https://en.wikipedia.org/wiki/Jack_and_the_Bea...   \n",
       "\n",
       "                                                Plot  \n",
       "0  A bartender is working at a saloon, serving dr...  \n",
       "1  The moon, painted with a smiling face hangs ov...  \n",
       "2  The film, just over a minute long, is composed...  \n",
       "3  Lasting just 61 seconds and consisting of two ...  \n",
       "4  The earliest known adaptation of the classic f...  "
      ]
     },
     "execution_count": 3,
     "metadata": {},
     "output_type": "execute_result"
    }
   ],
   "source": [
    "data.head()"
   ]
  },
  {
   "cell_type": "code",
   "execution_count": 24,
   "metadata": {},
   "outputs": [
    {
     "data": {
      "text/plain": [
       "24169"
      ]
     },
     "execution_count": 24,
     "metadata": {},
     "output_type": "execute_result"
    }
   ],
   "source": [
    "import regex as re\n",
    "\n",
    "storydata=data[data[\"Genre\"].str.contains('science fiction|sci-fi|science-fiction|horror|thriller|suspense|drama|comedy|action|adventure|crime|fantasy|mystery|romance|superhero')]\n",
    "len(storydata)"
   ]
  },
  {
   "cell_type": "code",
   "execution_count": 29,
   "metadata": {},
   "outputs": [],
   "source": [
    "with open('wikistories.txt', 'w',encoding='utf-8') as f:\n",
    "    for ind,col in storydata.iterrows():\n",
    "        f.write(\"<|startoftext|> \")\n",
    "        f.write(\"Genre: \"+col['Genre']+\" Title: \"+col['Title']+\" Plot: \"+col['Plot']+\"<|endoftext|>\\n\\n\")"
   ]
  },
  {
   "cell_type": "code",
   "execution_count": 10,
   "metadata": {},
   "outputs": [],
   "source": [
    "#scifidata[\"Plot\"]=scifidata[\"Plot\"].apply(cleanText)\n",
    "with open('wikiscifi.txt', 'w',encoding='utf-8') as f:\n",
    "    f.write(\"<|startoftext|> \")\n",
    "    for rec_index, rec in scifidata.iterrows():\n",
    "        f.write(rec['Plot'])\n",
    "    f.write(\" <|endoftext|>\")    "
   ]
  },
  {
   "cell_type": "code",
   "execution_count": 11,
   "metadata": {},
   "outputs": [],
   "source": [
    "#horrordata[\"Plot\"]=horrordata[\"Plot\"].apply(cleanText)\n",
    "with open('wikihorror.txt', 'w',encoding='utf-8') as f:\n",
    "    f.write(\"<|startoftext|> \")\n",
    "    for rec_index, rec in horrordata.iterrows():\n",
    "        f.write(rec['Plot'])\n",
    "    f.write(\" <|endoftext|>\")    "
   ]
  },
  {
   "cell_type": "code",
   "execution_count": 12,
   "metadata": {},
   "outputs": [],
   "source": [
    "#dramadata[\"Plot\"]=dramadata[\"Plot\"].apply(cleanText)\n",
    "with open('wikidrama.txt', 'w',encoding='utf-8') as f:\n",
    "    f.write(\"<|startoftext|> \")\n",
    "    for rec_index, rec in dramadata.iterrows():\n",
    "        f.write(rec['Plot'])\n",
    "    f.write(\" <|endoftext|>\")    "
   ]
  },
  {
   "cell_type": "code",
   "execution_count": 22,
   "metadata": {},
   "outputs": [],
   "source": [
    "def cleanText(x):\n",
    "    cleanedtext=re.sub(\"[\\(\\[].*?[\\)\\]]\", \"\", x)\n",
    "    #cleanedtext+=\"<|endoftext|>\"\n",
    "    cleanedtext=x.replace(\"\\n\",\"\")\n",
    "    return cleanedtext"
   ]
  },
  {
   "cell_type": "code",
   "execution_count": 23,
   "metadata": {},
   "outputs": [],
   "source": [
    "data[\"Plot\"]=data[\"Plot\"].apply(cleanText)\n",
    "#unsuffixeddata=pd.DataFrame(\"<\"+data[\"Genre\"]+\">\"+data[\"Plot\"])"
   ]
  },
  {
   "cell_type": "code",
   "execution_count": null,
   "metadata": {},
   "outputs": [],
   "source": [
    "if \"horror\" in data[\"Genre\"]:\n",
    "    print(data['Plot'])\n",
    "else :\n",
    "    print(\"no\")"
   ]
  },
  {
   "cell_type": "code",
   "execution_count": null,
   "metadata": {},
   "outputs": [],
   "source": [
    "unsuffixeddata.to_csv('data2.csv', index=False,) "
   ]
  },
  {
   "cell_type": "code",
   "execution_count": null,
   "metadata": {},
   "outputs": [],
   "source": [
    "textdata.to_csv('data1.csv', index=False,) "
   ]
  },
  {
   "cell_type": "markdown",
   "metadata": {},
   "source": [
    "#### Training"
   ]
  },
  {
   "cell_type": "code",
   "execution_count": null,
   "metadata": {},
   "outputs": [],
   "source": [
    "import torch, os, re, pandas as pd, json\n",
    "from sklearn.model_selection import train_test_split\n",
    "from transformers import DataCollatorForLanguageModeling, DataCollatorWithPadding, GPT2Tokenizer, GPT2LMHeadModel, Trainer, TrainingArguments, AutoConfig"
   ]
  },
  {
   "cell_type": "code",
   "execution_count": null,
   "metadata": {},
   "outputs": [],
   "source": [
    "base_model = GPT2LMHeadModel.from_pretrained('gpt2')\n",
    "base_tokenizer = GPT2Tokenizer.from_pretrained('gpt2')"
   ]
  },
  {
   "cell_type": "code",
   "execution_count": null,
   "metadata": {},
   "outputs": [],
   "source": [
    "bos = '<BOS>'\n",
    "eos = '<|endoftext|>'\n",
    "pad = '<|pad|>'\n",
    "special_tokens_dict = {'eos_token': eos, 'bos_token': bos,'pad_token': pad}\n",
    "\n",
    "num_added_toks = base_tokenizer.add_special_tokens(special_tokens_dict)\n",
    "\n",
    "config = AutoConfig.from_pretrained('gpt2', \n",
    "                                    bos_token_id=base_tokenizer.bos_token_id,\n",
    "                                    eos_token_id=base_tokenizer.eos_token_id,\n",
    "                                    pad_token_id=base_tokenizer.pad_token_id,\n",
    "                                    output_hidden_states=False)\n",
    "\n",
    "base_model = GPT2LMHeadModel.from_pretrained('gpt2', config=config)\n",
    "base_model.resize_token_embeddings(len(base_tokenizer))"
   ]
  },
  {
   "cell_type": "code",
   "execution_count": null,
   "metadata": {},
   "outputs": [],
   "source": [
    "df_train, df_val = train_test_split(textdata, train_size = 0.9, random_state = 77)\n",
    "print(f'There are {len(df_train)} stories for training and {len(df_val)} for validation')"
   ]
  },
  {
   "cell_type": "code",
   "execution_count": null,
   "metadata": {},
   "outputs": [],
   "source": [
    "pip install datasets"
   ]
  },
  {
   "cell_type": "code",
   "execution_count": null,
   "metadata": {},
   "outputs": [],
   "source": [
    "from datasets import Dataset\n",
    "train_dataset = Dataset.from_pandas(df_train[['Plot']])\n",
    "val_dataset = Dataset.from_pandas(df_val[['Plot']])"
   ]
  },
  {
   "cell_type": "code",
   "execution_count": null,
   "metadata": {},
   "outputs": [],
   "source": [
    " def tokenize_function(examples,tokenizer):\n",
    "        return base_tokenizer(examples['Plot'], padding=True)"
   ]
  },
  {
   "cell_type": "code",
   "execution_count": null,
   "metadata": {},
   "outputs": [],
   "source": [
    "tokenized_train_dataset = train_dataset.map(\n",
    "    tokenize_function(train_dataset,tokenizer=base_tokenizer),\n",
    "    batched=True,\n",
    "    num_proc=5,\n",
    ")\n",
    "\n"
   ]
  },
  {
   "cell_type": "code",
   "execution_count": null,
   "metadata": {},
   "outputs": [],
   "source": [
    "tokenized_val_dataset = val_dataset.map(\n",
    "    tokenize_function(val_dataset,tokenizer=base_tokenizer),\n",
    "    batched=True,\n",
    "    num_proc=5,\n",
    "    verbose=True\n",
    ")"
   ]
  },
  {
   "cell_type": "markdown",
   "metadata": {},
   "source": [
    "# Training GPT2SIMPLE"
   ]
  },
  {
   "cell_type": "code",
   "execution_count": null,
   "metadata": {},
   "outputs": [],
   "source": [
    "import gpt_2_simple as gpt2\n",
    "import os\n",
    "import requests\n",
    "\n",
    "model_name = \"124M\"\n",
    "if not os.path.isdir(os.path.join(\"models\", model_name)):\n",
    "\tprint(f\"Downloading {model_name} model...\")\n",
    "\tgpt2.download_gpt2(model_name=model_name)   # model is saved into current directory under /models/124M/\n",
    "\n",
    "\n",
    "file_name = \"data2.csv\"\n",
    "if not os.path.isfile(file_name):\n",
    "\t#url = \"https://raw.githubusercontent.com/karpathy/char-rnn/master/data/tinyshakespeare/input.txt\"\n",
    "\t#data = requests.get(url)\n",
    "\n",
    "\twith open(file_name, 'w',encoding='utf-8') as f:\n",
    "\t\tf.write(data.text)"
   ]
  },
  {
   "cell_type": "code",
   "execution_count": null,
   "metadata": {},
   "outputs": [],
   "source": [
    "import gpt_2_simple as gpt2\n",
    "model_name = \"124M\"\n",
    "file_name = \"data2.csv\"\n",
    "sess = gpt2.start_tf_sess()\n",
    "gpt2.finetune(sess,\n",
    "              file_name,\n",
    "              model_name=model_name,\n",
    "              multi_gpu=True,\n",
    "              save_every=10,\n",
    "              sample_length=400,\n",
    "              steps=1500)"
   ]
  },
  {
   "cell_type": "markdown",
   "metadata": {},
   "source": [
    "# Old School training"
   ]
  },
  {
   "cell_type": "code",
   "execution_count": 1,
   "metadata": {},
   "outputs": [],
   "source": [
    "import gpt_2_simple as gpt2"
   ]
  },
  {
   "cell_type": "code",
   "execution_count": null,
   "metadata": {},
   "outputs": [],
   "source": [
    "gpt2.download_gpt2(model_name='124M')"
   ]
  },
  {
   "cell_type": "code",
   "execution_count": 2,
   "metadata": {},
   "outputs": [],
   "source": [
    "sess = gpt2.start_tf_sess()"
   ]
  },
  {
   "cell_type": "code",
   "execution_count": null,
   "metadata": {},
   "outputs": [],
   "source": [
    "gpt2.finetune(sess, dataset=\"wikihorror.txt\", steps=1000, model_name='124M',\n",
    "sample_every=200, save_every=10, print_every=1, restore_from='fresh',run_name='horror')#set overwrite false and  restore_from=\"latest\" if crash"
   ]
  },
  {
   "cell_type": "code",
   "execution_count": null,
   "metadata": {},
   "outputs": [],
   "source": [
    "gpt2.finetune(sess, dataset=\"wikidrama.txt\", steps=1000, model_name='124M',\n",
    "sample_every=200, save_every=10, print_every=1, restore_from='fresh',run_name='drama')"
   ]
  },
  {
   "cell_type": "code",
   "execution_count": null,
   "metadata": {},
   "outputs": [],
   "source": [
    "gpt2.finetune(sess, dataset=\"wikiscifi.txt\", steps=1000, model_name='124M',\n",
    "sample_every=200, save_every=10, print_every=1, restore_from='fresh',run_name='scifi')"
   ]
  },
  {
   "cell_type": "code",
   "execution_count": 3,
   "metadata": {},
   "outputs": [
    {
     "name": "stdout",
     "output_type": "stream",
     "text": [
      "Loading checkpoint checkpoint\\horror\\model-901\n",
      "INFO:tensorflow:Restoring parameters from checkpoint\\horror\\model-901\n",
      "Jason fell in love with Ginny, what happens? And what about her mother? The answer is that she dies of her gunshot wound.\n",
      "\n",
      "Ginny's mother, Betty Watson, is a voracious reader of the local newspapers and a former lover of the family. She is part of a group of disturbed teenagers who have been following her daughter closely, and she is now in search of answers to the questions she has been asking this whole time.\n",
      "\n",
      "She starts reading the newspaper, and sees that the newspaper advertises a \"religion class\". No one is on campus, and she spends a lot of time reading about the story. She also gets into a fight with a classmate, which results in her being gunned down by the police. The teen who ran the fight is the same girl who is the target of the previous murder, and the girl is the main suspect.\n",
      "\n",
      "Eventually it all comes down to the question of which girl is the real target. The answer is that the answer is no. Betty Watson has been cursed by her mother, and the girls are the real target of their own evil.\n",
      "\n",
      "\n",
      "\n",
      "Gerry, a New York City photographer, begins to experience strange phenomena, such as a terrible light coming from an air purifier. At first sight, it may seem like a mere coincidence that he finds the volume of a mysterious thunderstorm to be a mystery. He soon discovers that the thunderstorm is an alien visitation of the same beings who created the thunderstorm. The thunderstorm is a black hole, created by a powerful force of nature that continually changes its shape.\n",
      "\n",
      "Gerry is dispatched by the National Weather Service, an agency of the Eisenhower administration, to find the source of the thunderstorm. They have a special task for the area and a special purpose mission. They are only able to find the source of the thunderstorm through searching the local area.\n",
      "\n",
      "Gerry is contacted by the National Weather Service, which is investigating the strange phenomena. They describe a mysterious black hole, which is capable of creating a large number of black holes, each of which is capable of neutrally interacting with another black hole. The black hole is a giant, dark void that has been expanding in size and speed. The black hole also\n"
     ]
    }
   ],
   "source": [
    "gpt2.load_gpt2(sess, run_name='horror')\n",
    "print(str(gpt2.generate(sess, run_name='horror', length=450,temperature=0.7, prefix=\"Jason fell in love with Ginny, what happens?\",return_as_list=True)[0]))"
   ]
  },
  {
   "cell_type": "code",
   "execution_count": null,
   "metadata": {},
   "outputs": [],
   "source": []
  }
 ],
 "metadata": {
  "kernelspec": {
   "display_name": "Python 3",
   "language": "python",
   "name": "python3"
  },
  "language_info": {
   "codemirror_mode": {
    "name": "ipython",
    "version": 3
   },
   "file_extension": ".py",
   "mimetype": "text/x-python",
   "name": "python",
   "nbconvert_exporter": "python",
   "pygments_lexer": "ipython3",
   "version": "3.7.9"
  }
 },
 "nbformat": 4,
 "nbformat_minor": 4
}
